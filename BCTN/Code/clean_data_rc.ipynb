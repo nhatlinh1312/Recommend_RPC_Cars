{
 "cells": [
  {
   "cell_type": "code",
   "execution_count": 1,
   "metadata": {},
   "outputs": [],
   "source": [
    "import numpy as np\n",
    "import pandas as pd"
   ]
  },
  {
   "cell_type": "code",
   "execution_count": 2,
   "metadata": {},
   "outputs": [],
   "source": [
    "data = pd.read_excel('Data_Recommend.xlsx')"
   ]
  },
  {
   "cell_type": "code",
   "execution_count": 3,
   "metadata": {},
   "outputs": [
    {
     "data": {
      "text/plain": [
       "(14336, 21)"
      ]
     },
     "execution_count": 3,
     "metadata": {},
     "output_type": "execute_result"
    }
   ],
   "source": [
    "data.shape"
   ]
  },
  {
   "cell_type": "code",
   "execution_count": 5,
   "metadata": {},
   "outputs": [],
   "source": [
    "data[\"Người Bán\"] = data[\"Người Bán\"].str.replace(r'\\n', '')  # Loại bỏ ký tự xuống dòng # Loại bỏ khoảng trắng ở đầu và cuối chuỗi\n",
    "data[\"Người Bán\"] = data[\"Người Bán\"] .str.replace(r',', ' ,') \n",
    "data[\"Người Bán\"] = data[\"Người Bán\"] .str.replace(r',', '-')  # Thay thế dấu phẩy bằng dấu gạch ngang "
   ]
  },
  {
   "cell_type": "code",
   "execution_count": 6,
   "metadata": {},
   "outputs": [
    {
     "data": {
      "text/plain": [
       "array(['THACO AUTO', 'CÔNG TY TNHH Ô TÔ ISUZU VIỆT NAM',\n",
       "       'CÔNG TY Ô TÔ TOYOTA VIỆT NAM', ..., 'Mitsubishi ô tô Tiền...',\n",
       "       'Trường Duy', 'Tường Duy Huy'], dtype=object)"
      ]
     },
     "execution_count": 6,
     "metadata": {},
     "output_type": "execute_result"
    }
   ],
   "source": [
    "data[\"Người Bán\"].unique()"
   ]
  },
  {
   "cell_type": "code",
   "execution_count": 11,
   "metadata": {},
   "outputs": [
    {
     "data": {
      "text/plain": [
       "array(['Xăng', 'Xăng/Dầu', 'Hybrid', 'Dầu', 'Điện', None], dtype=object)"
      ]
     },
     "execution_count": 11,
     "metadata": {},
     "output_type": "execute_result"
    }
   ],
   "source": [
    "data[\"Nhiên liệu\"].unique()"
   ]
  },
  {
   "cell_type": "code",
   "execution_count": 8,
   "metadata": {},
   "outputs": [],
   "source": [
    "data[\"Nhiên liệu\"] = data[\"Nhiên liệu\"].replace('Điện ', 'Điện')\n",
    "data[\"Nhiên liệu\"] = data[\"Nhiên liệu\"].replace('Xăng + Điện', 'Hybrid')"
   ]
  },
  {
   "cell_type": "code",
   "execution_count": 10,
   "metadata": {},
   "outputs": [],
   "source": [
    "data[\"Nhiên liệu\"] = data[\"Nhiên liệu\"].replace('Khác', None)"
   ]
  },
  {
   "cell_type": "code",
   "execution_count": 14,
   "metadata": {},
   "outputs": [
    {
     "data": {
      "text/plain": [
       "array(['Số tự động', 'Số tự động 8 cấp',\n",
       "       'Số tự động vô cấp (CVT) INVECS III - Sport-mode', 'MT',\n",
       "       'Số tự động vô cấp E-CVT', 'Số tự động 6 cấp/6AT', 'Số sàn 5 cấp',\n",
       "       'Số tự động 10 cấp', 'Số tự động 4 cấp',\n",
       "       'Hộp số tự động 8 cấp - chế độ thể thao', '6MT', 'Hộp số tự động',\n",
       "       'Hộp số sàn'], dtype=object)"
      ]
     },
     "execution_count": 14,
     "metadata": {},
     "output_type": "execute_result"
    }
   ],
   "source": [
    "data[\"Hộp số\"].unique()"
   ]
  },
  {
   "cell_type": "code",
   "execution_count": 13,
   "metadata": {},
   "outputs": [],
   "source": [
    "data[\"Hộp số\"] = data[\"Hộp số\"].replace('Tự động', 'Số tự động')\n",
    "data[\"Hộp số\"] = data[\"Hộp số\"].replace(\"{'Hộp số': 'Số tự động vô cấp (CVT) INVECS III - Sport-mode'}\", 'Số tự động vô cấp (CVT) INVECS III - Sport-mode')\n",
    "data[\"Hộp số\"] = data[\"Hộp số\"].replace(\"{'Hộp số': 'Số sàn 5 cấp'}\", 'Số sàn 5 cấp')\n",
    "data[\"Hộp số\"] = data[\"Hộp số\"].replace(\"Số tay 5 cấp\", 'Số sàn 5 cấp')\n",
    "data[\"Hộp số\"] = data[\"Hộp số\"].replace(\"{'Hộp số': 'Hộp số tự động 8 cấp - chế độ thể thao'}\", 'Hộp số tự động 8 cấp - chế độ thể thao')\n",
    "data[\"Hộp số\"] = data[\"Hộp số\"].replace(\"{'Hộp số': 'Số tự động 4 cấp'}\", 'Số tự động 4 cấp')\n",
    "data[\"Hộp số\"] = data[\"Hộp số\"].replace(\"{'Hộp số': '6AT - Sport mode'}\", '6AT - Sport mode')\n",
    "data[\"Hộp số\"] = data[\"Hộp số\"].replace(\"{'Hộp số': '6AT'}\", '6AT - Sport mode')\n",
    "data[\"Hộp số\"] = data[\"Hộp số\"].replace(\"{'Hộp số': '6MT'}\", '6MT')\n",
    "data[\"Hộp số\"] = data[\"Hộp số\"].replace(\"{'Hộp số': 'Số tự động vô cấp (CVT) INVECS III'}\", 'Số tự động vô cấp (CVT) INVECS III')\n",
    "data[\"Hộp số\"] = data[\"Hộp số\"].replace(\"{'Hộp số': 'Hộp số tự động vô cấp'}\", 'Hộp số tự động vô cấp')\n",
    "data[\"Hộp số\"] = data[\"Hộp số\"].replace(\"CVT\", 'Số tự động vô cấp CVT')\n",
    "data[\"Hộp số\"] = data[\"Hộp số\"].replace(\"Vô cấp CVT\", 'Số tự động vô cấp CVT')\n",
    "data[\"Hộp số\"] = data[\"Hộp số\"].replace(\"Số tự động vô cấp/CVT\", 'Số tự động vô cấp CVT')\n",
    "data[\"Hộp số\"] = data[\"Hộp số\"].replace(\"Hộp số tự động vô cấp CVT\", 'Số tự động vô cấp CVT')\n",
    "data[\"Hộp số\"] = data[\"Hộp số\"].replace(\"6AT - Sport mode\", 'Số tự động 6 cấp/6AT')\n",
    "data[\"Hộp số\"] = data[\"Hộp số\"].replace(\"Số tự động 6 cấp\", 'Số tự động 6 cấp/6AT')\n",
    "data[\"Hộp số\"] = data[\"Hộp số\"].replace(\"Hộp số tự động 6 cấp\", 'Số tự động 6 cấp/6AT')\n",
    "data[\"Hộp số\"] = data[\"Hộp số\"].replace(\"Hộp số tự động 8 cấp\", 'Số tự động 8 cấp')\n",
    "\n",
    "\n",
    "data[\"Hộp số\"] = data[\"Hộp số\"].replace('Số tự động vô cấp (CVT) INVECS III', 'Số tự động vô cấp (CVT) INVECS III - Sport-mode')\n",
    "data[\"Hộp số\"] = data[\"Hộp số\"].replace('Số tự động vô cấp CVT', 'Số tự động vô cấp (CVT) INVECS III - Sport-mode')\n",
    "data[\"Hộp số\"] = data[\"Hộp số\"].replace('Số tự động vô cấp', 'Số tự động vô cấp (CVT) INVECS III - Sport-mode')\n",
    "data[\"Hộp số\"] = data[\"Hộp số\"].replace('Hộp số tự động vô cấp', 'Số tự động vô cấp (CVT) INVECS III - Sport-mode')\n"
   ]
  },
  {
   "cell_type": "code",
   "execution_count": 19,
   "metadata": {},
   "outputs": [
    {
     "data": {
      "text/plain": [
       "array([None, 2023, 2022, 2021, 2020, 2018, 2024, 2016, 2019, 2017, 2013,\n",
       "       2010, 2009, 2004, 2012, 2014, 2015, 2002, 2007, 2011, 2003, 2008,\n",
       "       2005, 2006, 1991, 1995, 2001, 2000, 1989, 1997, 1992, 1990, 1998,\n",
       "       1999, 1994, 1993, 1996], dtype=object)"
      ]
     },
     "execution_count": 19,
     "metadata": {},
     "output_type": "execute_result"
    }
   ],
   "source": [
    "data[\"Năm SX\"].unique()"
   ]
  },
  {
   "cell_type": "code",
   "execution_count": 16,
   "metadata": {},
   "outputs": [],
   "source": [
    "data[\"Năm SX\"] = data[\"Năm SX\"].fillna(0).astype(\"int\")"
   ]
  },
  {
   "cell_type": "code",
   "execution_count": 18,
   "metadata": {},
   "outputs": [],
   "source": [
    "data[\"Năm SX\"] = data[\"Năm SX\"].replace(0, None)"
   ]
  },
  {
   "cell_type": "code",
   "execution_count": 22,
   "metadata": {},
   "outputs": [
    {
     "data": {
      "text/plain": [
       "array(['Hatchback', 'Sedan', 'SUV', 'Bán tải', 'MPV', 'Đa dụng',\n",
       "       'Đa dụng thể thao', nan, 'SUV / Cross over', 'Van',\n",
       "       'Kiểu dáng khác', 'Coupe', 'Mui trần', 'Van/Minivan', 'Crossover',\n",
       "       'Convertible/Cabriolet', 'Wagon', 'Sport Car'], dtype=object)"
      ]
     },
     "execution_count": 22,
     "metadata": {},
     "output_type": "execute_result"
    }
   ],
   "source": [
    "data['Kiểu dáng'].unique()"
   ]
  },
  {
   "cell_type": "code",
   "execution_count": 21,
   "metadata": {},
   "outputs": [],
   "source": [
    "data['Kiểu dáng'] = data['Kiểu dáng'].replace('XE SUV ISUZU', 'MPV')\n",
    "data['Kiểu dáng'] = data['Kiểu dáng'].replace('Bán tải / Pickup', 'Bán tải')\n",
    "data['Kiểu dáng'] = data['Kiểu dáng'].replace('XE BÁN TẢI ISUZU', 'Bán tải')\n",
    "data['Kiểu dáng'] = data['Kiểu dáng'].replace('Coupe (2 cửa)', 'Coupe')\n",
    "data['Kiểu dáng'] = data['Kiểu dáng'].replace('Minivan (MPV)', 'MPV')\n",
    "data['Kiểu dáng'] = data['Kiểu dáng'].replace('XE SUV ISUZU', 'MPV')\n",
    "\n"
   ]
  },
  {
   "cell_type": "code",
   "execution_count": 26,
   "metadata": {},
   "outputs": [
    {
     "data": {
      "text/plain": [
       "array(['Lắp ráp trong nước', 'Thái Lan', 'Nhật Bản', 'Indonesia', nan,\n",
       "       'Mỹ', 'Hàn Quốc', 'Đức', 'Nhập khẩu', 'Ấn Độ', 'Trung Quốc'],\n",
       "      dtype=object)"
      ]
     },
     "execution_count": 26,
     "metadata": {},
     "output_type": "execute_result"
    }
   ],
   "source": [
    "data[\"Xuất xứ\"].unique()"
   ]
  },
  {
   "cell_type": "code",
   "execution_count": 25,
   "metadata": {},
   "outputs": [],
   "source": [
    "# Thay thế các giá trị \n",
    "data[\"Xuất xứ\"] = np.where((data[\"Xuất xứ\"] == 'Trong nước') | (data[\"Xuất xứ\"] == 'Việt Nam'), 'Lắp ráp trong nước', data[\"Xuất xứ\"] )\n",
    "# Thay thế các giá trị \n",
    "data[\"Xuất xứ\"] = np.where((data[\"Xuất xứ\"] == 'Nước khác'), 'Nhập khẩu', data[\"Xuất xứ\"])\n"
   ]
  },
  {
   "cell_type": "code",
   "execution_count": 27,
   "metadata": {},
   "outputs": [
    {
     "data": {
      "text/plain": [
       "array([nan, 'Nhiều màu', \"['Vàng/Đen', 'Đỏ/Đen', 'Đen', 'Trắng']\",\n",
       "       \"['Trắng', 'Đen', 'Đỏ', 'Xám', 'Vàng']\",\n",
       "       \"['Xám', 'Đen', 'Trắng', 'Đỏ']\", \"['Đen', 'Trắng', 'Đỏ']\",\n",
       "       \"['Cam/Đen', 'Trắng', 'Đen', 'Nâu']\",\n",
       "       \"['Trắng', 'Đen', 'Xám Bạc', 'Đỏ']\",\n",
       "       \"['Trắng', 'Đen', 'Xám', 'Nâu']\", \"['Trắng', 'Xám', 'Đỏ']\",\n",
       "       \"['Trắng', 'Xám', 'Red']\", \"['Trắng', 'Xám']\",\n",
       "       \"['Đỏ', 'Đen', 'Nâu', 'Xám', 'Trắng']\", \"['Trắng', 'Đỏ', 'Đen']\",\n",
       "       \"['Trắng', 'Nâu', 'Đen']\", \"['Trắng', 'Cam', 'Đen']\",\n",
       "       \"['Trắng', 'Xám', 'Cam', 'Đen']\", 'Trắng', 'Đỏ', 'Khác',\n",
       "       'Xanh Dương', 'Vàng', 'Xám', 'Đen', 'Xanh Lá', 'Bạc', 'Nâu', 'Cam',\n",
       "       'Nhiều Màu', 'Kem', 'Xanh', 'Màu Khác', 'Ghi', 'Cát', 'Đồng',\n",
       "       'Tím', 'Hồng'], dtype=object)"
      ]
     },
     "execution_count": 27,
     "metadata": {},
     "output_type": "execute_result"
    }
   ],
   "source": [
    "data[\"Màu sắc\"].unique()"
   ]
  },
  {
   "cell_type": "code",
   "execution_count": 28,
   "metadata": {},
   "outputs": [
    {
     "data": {
      "text/plain": [
       "array(['Hatchback', 'Sedan', 'SUV', 'Bán tải', 'MPV', 'Đa dụng',\n",
       "       'Đa dụng thể thao', nan, 'SUV / Cross over', 'Van',\n",
       "       'Kiểu dáng khác', 'Coupe', 'Mui trần', 'Van/Minivan', 'Crossover',\n",
       "       'Convertible/Cabriolet', 'Wagon', 'Sport Car'], dtype=object)"
      ]
     },
     "execution_count": 28,
     "metadata": {},
     "output_type": "execute_result"
    }
   ],
   "source": [
    "data[\"Kiểu dáng\"].unique()"
   ]
  },
  {
   "cell_type": "code",
   "execution_count": 37,
   "metadata": {},
   "outputs": [
    {
     "data": {
      "text/plain": [
       "array([5, 4, 7, 6, None, 8, 2, 16, 15, 9, 10, 47, 29, 46, 12, 40],\n",
       "      dtype=object)"
      ]
     },
     "execution_count": 37,
     "metadata": {},
     "output_type": "execute_result"
    }
   ],
   "source": [
    "data[\"Số chỗ ngồi\"].unique()"
   ]
  },
  {
   "cell_type": "code",
   "execution_count": 32,
   "metadata": {},
   "outputs": [],
   "source": [
    "data[\"Số chỗ ngồi\"] = data[\"Số chỗ ngồi\"].replace('05 chỗ', 5)\n",
    "data[\"Số chỗ ngồi\"] = data[\"Số chỗ ngồi\"].replace('5', 5)\n",
    "data[\"Số chỗ ngồi\"] = data[\"Số chỗ ngồi\"].replace('5 chỗ', 5)\n",
    "data[\"Số chỗ ngồi\"] = data[\"Số chỗ ngồi\"].replace('5 Chỗ', 5)\n",
    "data[\"Số chỗ ngồi\"] = data[\"Số chỗ ngồi\"].replace('4', 4)\n",
    "data[\"Số chỗ ngồi\"] = data[\"Số chỗ ngồi\"].replace('7 chỗ', 7)\n",
    "data[\"Số chỗ ngồi\"] = data[\"Số chỗ ngồi\"].replace('7 ghế', 7)\n",
    "data[\"Số chỗ ngồi\"] = data[\"Số chỗ ngồi\"].replace('7', 7)\n",
    "data[\"Số chỗ ngồi\"] = data[\"Số chỗ ngồi\"].replace('6', 6)\n",
    "data[\"Số chỗ ngồi\"] = data[\"Số chỗ ngồi\"].replace('6 ghế', 6)\n",
    "data[\"Số chỗ ngồi\"] = data[\"Số chỗ ngồi\"].replace('6 / 7', 7)\n",
    "data[\"Số chỗ ngồi\"] = data[\"Số chỗ ngồi\"].replace('7 / 8 chỗ', 7)\n",
    "data[\"Số chỗ ngồi\"] = data[\"Số chỗ ngồi\"].replace('6 chỗ', 6)\n",
    "data[\"Số chỗ ngồi\"] = data[\"Số chỗ ngồi\"].replace('8 chỗ', 8)\n",
    "data[\"Số chỗ ngồi\"] = data[\"Số chỗ ngồi\"].replace('05 người', 5)\n",
    "data[\"Số chỗ ngồi\"] = data[\"Số chỗ ngồi\"].replace('5 người', 5)\n",
    "data[\"Số chỗ ngồi\"] = data[\"Số chỗ ngồi\"].replace('07 Người', 7)\n"
   ]
  },
  {
   "cell_type": "code",
   "execution_count": 34,
   "metadata": {},
   "outputs": [],
   "source": [
    "data[\"Số chỗ ngồi\"] = data[\"Số chỗ ngồi\"].fillna(0).astype(\"int\")"
   ]
  },
  {
   "cell_type": "code",
   "execution_count": 36,
   "metadata": {},
   "outputs": [],
   "source": [
    "data[\"Số chỗ ngồi\"] = data[\"Số chỗ ngồi\"].replace(0, None)"
   ]
  },
  {
   "cell_type": "code",
   "execution_count": 38,
   "metadata": {},
   "outputs": [
    {
     "data": {
      "text/html": [
       "<div>\n",
       "<style scoped>\n",
       "    .dataframe tbody tr th:only-of-type {\n",
       "        vertical-align: middle;\n",
       "    }\n",
       "\n",
       "    .dataframe tbody tr th {\n",
       "        vertical-align: top;\n",
       "    }\n",
       "\n",
       "    .dataframe thead th {\n",
       "        text-align: right;\n",
       "    }\n",
       "</style>\n",
       "<table border=\"1\" class=\"dataframe\">\n",
       "  <thead>\n",
       "    <tr style=\"text-align: right;\">\n",
       "      <th></th>\n",
       "      <th>Tên Xe</th>\n",
       "      <th>Đơn giá</th>\n",
       "      <th>Người Bán</th>\n",
       "      <th>Địa chỉ người bán</th>\n",
       "      <th>Hãng xe</th>\n",
       "      <th>Năm SX</th>\n",
       "      <th>Dòng xe</th>\n",
       "      <th>Phiên bản</th>\n",
       "      <th>Kiểu dáng</th>\n",
       "      <th>Màu sắc</th>\n",
       "      <th>...</th>\n",
       "      <th>Số chỗ ngồi</th>\n",
       "      <th>Xuất xứ</th>\n",
       "      <th>Tỉnh thành</th>\n",
       "      <th>Km đã đi</th>\n",
       "      <th>Hộp số</th>\n",
       "      <th>Nhiên liệu</th>\n",
       "      <th>Link xe</th>\n",
       "      <th>Dung tích</th>\n",
       "      <th>Image_URL</th>\n",
       "      <th>Khoảng giá</th>\n",
       "    </tr>\n",
       "  </thead>\n",
       "  <tbody>\n",
       "    <tr>\n",
       "      <th>0</th>\n",
       "      <td>Morning</td>\n",
       "      <td>Từ 366,000,000đ</td>\n",
       "      <td>THACO AUTO</td>\n",
       "      <td>THÔN 4, XÃ TAM HIỆP, HUYỆN NÚI THÀNH, TỈNH QUẢ...</td>\n",
       "      <td>KIA</td>\n",
       "      <td>None</td>\n",
       "      <td>Morning</td>\n",
       "      <td>Morning</td>\n",
       "      <td>Hatchback</td>\n",
       "      <td>NaN</td>\n",
       "      <td>...</td>\n",
       "      <td>5</td>\n",
       "      <td>Lắp ráp trong nước</td>\n",
       "      <td>Quảng Nam</td>\n",
       "      <td>NaN</td>\n",
       "      <td>Số tự động</td>\n",
       "      <td>Xăng</td>\n",
       "      <td>https://kiavietnam.com.vn/chi-tiet-san-pham/mo...</td>\n",
       "      <td>NaN</td>\n",
       "      <td>https://kiavietnam.com.vn/storage/trang-1.png</td>\n",
       "      <td>0 - 500 triệu</td>\n",
       "    </tr>\n",
       "    <tr>\n",
       "      <th>1</th>\n",
       "      <td>Kia Morning AT Luxury</td>\n",
       "      <td>Từ 366,000,000đ</td>\n",
       "      <td>THACO AUTO</td>\n",
       "      <td>THÔN 4, XÃ TAM HIỆP, HUYỆN NÚI THÀNH, TỈNH QUẢ...</td>\n",
       "      <td>KIA</td>\n",
       "      <td>None</td>\n",
       "      <td>Morning</td>\n",
       "      <td>Kia Morning AT Luxury</td>\n",
       "      <td>Hatchback</td>\n",
       "      <td>NaN</td>\n",
       "      <td>...</td>\n",
       "      <td>5</td>\n",
       "      <td>Lắp ráp trong nước</td>\n",
       "      <td>Quảng Nam</td>\n",
       "      <td>NaN</td>\n",
       "      <td>Số tự động</td>\n",
       "      <td>Xăng</td>\n",
       "      <td>https://kiavietnam.com.vn/chi-tiet-san-pham/mo...</td>\n",
       "      <td>NaN</td>\n",
       "      <td>https://kiavietnam.com.vn/storage/xanh-duong-1...</td>\n",
       "      <td>0 - 500 triệu</td>\n",
       "    </tr>\n",
       "    <tr>\n",
       "      <th>2</th>\n",
       "      <td>New Morning</td>\n",
       "      <td>Từ 349,000,000đ</td>\n",
       "      <td>THACO AUTO</td>\n",
       "      <td>THÔN 4, XÃ TAM HIỆP, HUYỆN NÚI THÀNH, TỈNH QUẢ...</td>\n",
       "      <td>KIA</td>\n",
       "      <td>None</td>\n",
       "      <td>New Morning</td>\n",
       "      <td>New Morning</td>\n",
       "      <td>Hatchback</td>\n",
       "      <td>NaN</td>\n",
       "      <td>...</td>\n",
       "      <td>5</td>\n",
       "      <td>Lắp ráp trong nước</td>\n",
       "      <td>Quảng Nam</td>\n",
       "      <td>NaN</td>\n",
       "      <td>Số tự động</td>\n",
       "      <td>Xăng</td>\n",
       "      <td>https://kiavietnam.com.vn/chi-tiet-san-pham/ne...</td>\n",
       "      <td>NaN</td>\n",
       "      <td>https://kiavietnam.com.vn/storage/l-newmorning...</td>\n",
       "      <td>0 - 500 triệu</td>\n",
       "    </tr>\n",
       "    <tr>\n",
       "      <th>3</th>\n",
       "      <td>New Morning GT-Line</td>\n",
       "      <td>Từ 424,000,000đ</td>\n",
       "      <td>THACO AUTO</td>\n",
       "      <td>THÔN 4, XÃ TAM HIỆP, HUYỆN NÚI THÀNH, TỈNH QUẢ...</td>\n",
       "      <td>KIA</td>\n",
       "      <td>None</td>\n",
       "      <td>New Morning</td>\n",
       "      <td>New Morning GT-Line</td>\n",
       "      <td>Hatchback</td>\n",
       "      <td>NaN</td>\n",
       "      <td>...</td>\n",
       "      <td>5</td>\n",
       "      <td>Lắp ráp trong nước</td>\n",
       "      <td>Quảng Nam</td>\n",
       "      <td>NaN</td>\n",
       "      <td>Số tự động</td>\n",
       "      <td>Xăng</td>\n",
       "      <td>https://kiavietnam.com.vn/chi-tiet-san-pham/ne...</td>\n",
       "      <td>NaN</td>\n",
       "      <td>https://kiavietnam.com.vn/storage/new-morning-...</td>\n",
       "      <td>0 - 500 triệu</td>\n",
       "    </tr>\n",
       "    <tr>\n",
       "      <th>4</th>\n",
       "      <td>New Morning AT</td>\n",
       "      <td>Từ 371,000,000đ</td>\n",
       "      <td>THACO AUTO</td>\n",
       "      <td>THÔN 4, XÃ TAM HIỆP, HUYỆN NÚI THÀNH, TỈNH QUẢ...</td>\n",
       "      <td>KIA</td>\n",
       "      <td>None</td>\n",
       "      <td>New Morning</td>\n",
       "      <td>New Morning AT</td>\n",
       "      <td>Hatchback</td>\n",
       "      <td>NaN</td>\n",
       "      <td>...</td>\n",
       "      <td>5</td>\n",
       "      <td>Lắp ráp trong nước</td>\n",
       "      <td>Quảng Nam</td>\n",
       "      <td>NaN</td>\n",
       "      <td>Số tự động</td>\n",
       "      <td>Xăng</td>\n",
       "      <td>https://kiavietnam.com.vn/chi-tiet-san-pham/ne...</td>\n",
       "      <td>NaN</td>\n",
       "      <td>https://kiavietnam.com.vn/storage/newmorning-d...</td>\n",
       "      <td>0 - 500 triệu</td>\n",
       "    </tr>\n",
       "    <tr>\n",
       "      <th>...</th>\n",
       "      <td>...</td>\n",
       "      <td>...</td>\n",
       "      <td>...</td>\n",
       "      <td>...</td>\n",
       "      <td>...</td>\n",
       "      <td>...</td>\n",
       "      <td>...</td>\n",
       "      <td>...</td>\n",
       "      <td>...</td>\n",
       "      <td>...</td>\n",
       "      <td>...</td>\n",
       "      <td>...</td>\n",
       "      <td>...</td>\n",
       "      <td>...</td>\n",
       "      <td>...</td>\n",
       "      <td>...</td>\n",
       "      <td>...</td>\n",
       "      <td>...</td>\n",
       "      <td>...</td>\n",
       "      <td>...</td>\n",
       "      <td>...</td>\n",
       "    </tr>\n",
       "    <tr>\n",
       "      <th>14331</th>\n",
       "      <td>Honda City Sensing 2023 vừa ra mắt tháng 7 này</td>\n",
       "      <td>609000000</td>\n",
       "      <td>Huỳnh Long Phú</td>\n",
       "      <td>Tam Hiệp - Châu Thành - Tiền Giang</td>\n",
       "      <td>HONDA</td>\n",
       "      <td>2023</td>\n",
       "      <td>CITY</td>\n",
       "      <td>NaN</td>\n",
       "      <td>Sedan</td>\n",
       "      <td>Đen</td>\n",
       "      <td>...</td>\n",
       "      <td>5</td>\n",
       "      <td>Lắp ráp trong nước</td>\n",
       "      <td>Tiền Giang</td>\n",
       "      <td>0.0</td>\n",
       "      <td>Hộp số tự động</td>\n",
       "      <td>Xăng</td>\n",
       "      <td>https://xetot.com/tien-giang/ban-xe/honda-city...</td>\n",
       "      <td>NaN</td>\n",
       "      <td>https://xekhachhoahiep.com/imgs/noimage.png</td>\n",
       "      <td>500 triệu - 1 tỷ</td>\n",
       "    </tr>\n",
       "    <tr>\n",
       "      <th>14332</th>\n",
       "      <td>𝐗𝐏𝐀𝐍𝐃𝐄𝐑 𝐌𝐓 Số Sàn Màu Trắng Giao Ngay Hổ Trợ T...</td>\n",
       "      <td>210000000</td>\n",
       "      <td>Mitsubishi ô tô Tiền...</td>\n",
       "      <td>Trung An - Mỹ Tho - Tiền Giang</td>\n",
       "      <td>MITSUBISHI</td>\n",
       "      <td>2023</td>\n",
       "      <td>XPANDER</td>\n",
       "      <td>NaN</td>\n",
       "      <td>MPV</td>\n",
       "      <td>Trắng</td>\n",
       "      <td>...</td>\n",
       "      <td>7</td>\n",
       "      <td>Thái Lan</td>\n",
       "      <td>Tiền Giang</td>\n",
       "      <td>0.0</td>\n",
       "      <td>Hộp số sàn</td>\n",
       "      <td>Xăng</td>\n",
       "      <td>https://xetot.com/tien-giang/ban-xe/-so-san-ma...</td>\n",
       "      <td>NaN</td>\n",
       "      <td>https://xekhachhoahiep.com/imgs/noimage.png</td>\n",
       "      <td>0 - 500 triệu</td>\n",
       "    </tr>\n",
       "    <tr>\n",
       "      <th>14333</th>\n",
       "      <td>Thật Tiếc Nếu Bỏ Qua Mẫu Xe Honda Crv Chỉ Với ...</td>\n",
       "      <td>998000000</td>\n",
       "      <td>Huỳnh Long Phú</td>\n",
       "      <td>Tam Hiệp - Châu Thành - Tiền Giang</td>\n",
       "      <td>HONDA</td>\n",
       "      <td>2023</td>\n",
       "      <td>CR-V</td>\n",
       "      <td>NaN</td>\n",
       "      <td>SUV / Cross over</td>\n",
       "      <td>Khác</td>\n",
       "      <td>...</td>\n",
       "      <td>7</td>\n",
       "      <td>Lắp ráp trong nước</td>\n",
       "      <td>Tiền Giang</td>\n",
       "      <td>0.0</td>\n",
       "      <td>Hộp số tự động</td>\n",
       "      <td>Xăng</td>\n",
       "      <td>https://xetot.com/tien-giang/ban-xe/that-tiec-...</td>\n",
       "      <td>NaN</td>\n",
       "      <td>https://xekhachhoahiep.com/imgs/noimage.png</td>\n",
       "      <td>500 triệu - 1 tỷ</td>\n",
       "    </tr>\n",
       "    <tr>\n",
       "      <th>14334</th>\n",
       "      <td>Xe khách 16 chỗ Hyundai Solati 2023</td>\n",
       "      <td>1100000000</td>\n",
       "      <td>Trường Duy</td>\n",
       "      <td>Trường An - Thành Phố Vĩnh Long - Vĩnh Long</td>\n",
       "      <td>HYUNDAI</td>\n",
       "      <td>2023</td>\n",
       "      <td>SOLATI</td>\n",
       "      <td>NaN</td>\n",
       "      <td>Kiểu dáng khác</td>\n",
       "      <td>Trắng</td>\n",
       "      <td>...</td>\n",
       "      <td>16</td>\n",
       "      <td>Hàn Quốc</td>\n",
       "      <td>Vĩnh Long</td>\n",
       "      <td>0.0</td>\n",
       "      <td>Hộp số sàn</td>\n",
       "      <td>Dầu</td>\n",
       "      <td>https://xetot.com/vinh-long/ban-xe/xe-khach-16...</td>\n",
       "      <td>NaN</td>\n",
       "      <td>https://xekhachhoahiep.com/imgs/noimage.png</td>\n",
       "      <td>1 tỷ - 1.5 tỷ</td>\n",
       "    </tr>\n",
       "    <tr>\n",
       "      <th>14335</th>\n",
       "      <td>Honda Ô Tô Vĩnh Phúc Vĩnh Yên</td>\n",
       "      <td>448000000</td>\n",
       "      <td>Tường Duy Huy</td>\n",
       "      <td>Khai Quang - Vĩnh Yên - Vĩnh Phúc</td>\n",
       "      <td>HONDA</td>\n",
       "      <td>2021</td>\n",
       "      <td>BRIO</td>\n",
       "      <td>NaN</td>\n",
       "      <td>Hatchback</td>\n",
       "      <td>Đỏ</td>\n",
       "      <td>...</td>\n",
       "      <td>5</td>\n",
       "      <td>Nhập khẩu</td>\n",
       "      <td>Vĩnh Phúc</td>\n",
       "      <td>0.0</td>\n",
       "      <td>Hộp số tự động</td>\n",
       "      <td>Xăng</td>\n",
       "      <td>https://xetot.com/vinh-phuc/ban-xe/honda-o-to-...</td>\n",
       "      <td>NaN</td>\n",
       "      <td>https://xekhachhoahiep.com/imgs/noimage.png</td>\n",
       "      <td>0 - 500 triệu</td>\n",
       "    </tr>\n",
       "  </tbody>\n",
       "</table>\n",
       "<p>14336 rows × 21 columns</p>\n",
       "</div>"
      ],
      "text/plain": [
       "                                                  Tên Xe          Đơn giá   \n",
       "0                                                Morning  Từ 366,000,000đ  \\\n",
       "1                                  Kia Morning AT Luxury  Từ 366,000,000đ   \n",
       "2                                            New Morning  Từ 349,000,000đ   \n",
       "3                                    New Morning GT-Line  Từ 424,000,000đ   \n",
       "4                                         New Morning AT  Từ 371,000,000đ   \n",
       "...                                                  ...              ...   \n",
       "14331     Honda City Sensing 2023 vừa ra mắt tháng 7 này        609000000   \n",
       "14332  𝐗𝐏𝐀𝐍𝐃𝐄𝐑 𝐌𝐓 Số Sàn Màu Trắng Giao Ngay Hổ Trợ T...        210000000   \n",
       "14333  Thật Tiếc Nếu Bỏ Qua Mẫu Xe Honda Crv Chỉ Với ...        998000000   \n",
       "14334                Xe khách 16 chỗ Hyundai Solati 2023       1100000000   \n",
       "14335                      Honda Ô Tô Vĩnh Phúc Vĩnh Yên        448000000   \n",
       "\n",
       "                     Người Bán   \n",
       "0                   THACO AUTO  \\\n",
       "1                   THACO AUTO   \n",
       "2                   THACO AUTO   \n",
       "3                   THACO AUTO   \n",
       "4                   THACO AUTO   \n",
       "...                        ...   \n",
       "14331           Huỳnh Long Phú   \n",
       "14332  Mitsubishi ô tô Tiền...   \n",
       "14333           Huỳnh Long Phú   \n",
       "14334               Trường Duy   \n",
       "14335            Tường Duy Huy   \n",
       "\n",
       "                                       Địa chỉ người bán     Hãng xe Năm SX   \n",
       "0      THÔN 4, XÃ TAM HIỆP, HUYỆN NÚI THÀNH, TỈNH QUẢ...         KIA   None  \\\n",
       "1      THÔN 4, XÃ TAM HIỆP, HUYỆN NÚI THÀNH, TỈNH QUẢ...         KIA   None   \n",
       "2      THÔN 4, XÃ TAM HIỆP, HUYỆN NÚI THÀNH, TỈNH QUẢ...         KIA   None   \n",
       "3      THÔN 4, XÃ TAM HIỆP, HUYỆN NÚI THÀNH, TỈNH QUẢ...         KIA   None   \n",
       "4      THÔN 4, XÃ TAM HIỆP, HUYỆN NÚI THÀNH, TỈNH QUẢ...         KIA   None   \n",
       "...                                                  ...         ...    ...   \n",
       "14331                 Tam Hiệp - Châu Thành - Tiền Giang       HONDA   2023   \n",
       "14332                     Trung An - Mỹ Tho - Tiền Giang  MITSUBISHI   2023   \n",
       "14333                 Tam Hiệp - Châu Thành - Tiền Giang       HONDA   2023   \n",
       "14334        Trường An - Thành Phố Vĩnh Long - Vĩnh Long     HYUNDAI   2023   \n",
       "14335                  Khai Quang - Vĩnh Yên - Vĩnh Phúc       HONDA   2021   \n",
       "\n",
       "           Dòng xe              Phiên bản         Kiểu dáng Màu sắc  ...   \n",
       "0          Morning                Morning         Hatchback     NaN  ...  \\\n",
       "1          Morning  Kia Morning AT Luxury         Hatchback     NaN  ...   \n",
       "2      New Morning            New Morning         Hatchback     NaN  ...   \n",
       "3      New Morning    New Morning GT-Line         Hatchback     NaN  ...   \n",
       "4      New Morning         New Morning AT         Hatchback     NaN  ...   \n",
       "...            ...                    ...               ...     ...  ...   \n",
       "14331         CITY                    NaN             Sedan     Đen  ...   \n",
       "14332      XPANDER                    NaN               MPV   Trắng  ...   \n",
       "14333         CR-V                    NaN  SUV / Cross over    Khác  ...   \n",
       "14334       SOLATI                    NaN    Kiểu dáng khác   Trắng  ...   \n",
       "14335         BRIO                    NaN         Hatchback      Đỏ  ...   \n",
       "\n",
       "      Số chỗ ngồi             Xuất xứ  Tỉnh thành Km đã đi          Hộp số   \n",
       "0               5  Lắp ráp trong nước   Quảng Nam      NaN      Số tự động  \\\n",
       "1               5  Lắp ráp trong nước   Quảng Nam      NaN      Số tự động   \n",
       "2               5  Lắp ráp trong nước   Quảng Nam      NaN      Số tự động   \n",
       "3               5  Lắp ráp trong nước   Quảng Nam      NaN      Số tự động   \n",
       "4               5  Lắp ráp trong nước   Quảng Nam      NaN      Số tự động   \n",
       "...           ...                 ...         ...      ...             ...   \n",
       "14331           5  Lắp ráp trong nước  Tiền Giang      0.0  Hộp số tự động   \n",
       "14332           7            Thái Lan  Tiền Giang      0.0      Hộp số sàn   \n",
       "14333           7  Lắp ráp trong nước  Tiền Giang      0.0  Hộp số tự động   \n",
       "14334          16            Hàn Quốc   Vĩnh Long      0.0      Hộp số sàn   \n",
       "14335           5           Nhập khẩu   Vĩnh Phúc      0.0  Hộp số tự động   \n",
       "\n",
       "      Nhiên liệu                                            Link xe Dung tích   \n",
       "0           Xăng  https://kiavietnam.com.vn/chi-tiet-san-pham/mo...       NaN  \\\n",
       "1           Xăng  https://kiavietnam.com.vn/chi-tiet-san-pham/mo...       NaN   \n",
       "2           Xăng  https://kiavietnam.com.vn/chi-tiet-san-pham/ne...       NaN   \n",
       "3           Xăng  https://kiavietnam.com.vn/chi-tiet-san-pham/ne...       NaN   \n",
       "4           Xăng  https://kiavietnam.com.vn/chi-tiet-san-pham/ne...       NaN   \n",
       "...          ...                                                ...       ...   \n",
       "14331       Xăng  https://xetot.com/tien-giang/ban-xe/honda-city...       NaN   \n",
       "14332       Xăng  https://xetot.com/tien-giang/ban-xe/-so-san-ma...       NaN   \n",
       "14333       Xăng  https://xetot.com/tien-giang/ban-xe/that-tiec-...       NaN   \n",
       "14334        Dầu  https://xetot.com/vinh-long/ban-xe/xe-khach-16...       NaN   \n",
       "14335       Xăng  https://xetot.com/vinh-phuc/ban-xe/honda-o-to-...       NaN   \n",
       "\n",
       "                                               Image_URL        Khoảng giá  \n",
       "0          https://kiavietnam.com.vn/storage/trang-1.png     0 - 500 triệu  \n",
       "1      https://kiavietnam.com.vn/storage/xanh-duong-1...     0 - 500 triệu  \n",
       "2      https://kiavietnam.com.vn/storage/l-newmorning...     0 - 500 triệu  \n",
       "3      https://kiavietnam.com.vn/storage/new-morning-...     0 - 500 triệu  \n",
       "4      https://kiavietnam.com.vn/storage/newmorning-d...     0 - 500 triệu  \n",
       "...                                                  ...               ...  \n",
       "14331        https://xekhachhoahiep.com/imgs/noimage.png  500 triệu - 1 tỷ  \n",
       "14332        https://xekhachhoahiep.com/imgs/noimage.png     0 - 500 triệu  \n",
       "14333        https://xekhachhoahiep.com/imgs/noimage.png  500 triệu - 1 tỷ  \n",
       "14334        https://xekhachhoahiep.com/imgs/noimage.png     1 tỷ - 1.5 tỷ  \n",
       "14335        https://xekhachhoahiep.com/imgs/noimage.png     0 - 500 triệu  \n",
       "\n",
       "[14336 rows x 21 columns]"
      ]
     },
     "execution_count": 38,
     "metadata": {},
     "output_type": "execute_result"
    }
   ],
   "source": [
    "data"
   ]
  },
  {
   "cell_type": "code",
   "execution_count": 39,
   "metadata": {},
   "outputs": [],
   "source": [
    "data.to_excel(\"Data_Recommend.xlsx\", sheet_name=\"Danh sách xe\", index=False, header=True)"
   ]
  },
  {
   "cell_type": "code",
   "execution_count": 2,
   "metadata": {},
   "outputs": [],
   "source": [
    "df = pd.read_excel(\"Data_Recommend.xlsx\")"
   ]
  },
  {
   "cell_type": "code",
   "execution_count": 3,
   "metadata": {},
   "outputs": [],
   "source": [
    "import num2words"
   ]
  },
  {
   "cell_type": "code",
   "execution_count": 5,
   "metadata": {},
   "outputs": [],
   "source": [
    "Price_in_words = []"
   ]
  },
  {
   "cell_type": "code",
   "execution_count": 4,
   "metadata": {},
   "outputs": [],
   "source": [
    "df[\"Đơn giá\"] = df[\"Đơn giá\"].fillna(\"Giá chưa công bố\")"
   ]
  },
  {
   "cell_type": "code",
   "execution_count": 6,
   "metadata": {},
   "outputs": [],
   "source": [
    "for price in df['Đơn giá']:\n",
    "    if isinstance(price, float) or isinstance(price, int):\n",
    "        price_in_words = num2words.num2words(price, lang=\"vi\")\n",
    "        price_in_words = price_in_words.capitalize()\n",
    "    else:\n",
    "        price_in_words = price\n",
    "    Price_in_words.append(price_in_words)"
   ]
  },
  {
   "cell_type": "code",
   "execution_count": 7,
   "metadata": {},
   "outputs": [
    {
     "data": {
      "text/plain": [
       "14336"
      ]
     },
     "execution_count": 7,
     "metadata": {},
     "output_type": "execute_result"
    }
   ],
   "source": [
    "len(Price_in_words)"
   ]
  },
  {
   "cell_type": "code",
   "execution_count": 8,
   "metadata": {},
   "outputs": [
    {
     "data": {
      "text/plain": [
       "'Bốn trăm bốn mươi tám triệu'"
      ]
     },
     "execution_count": 8,
     "metadata": {},
     "output_type": "execute_result"
    }
   ],
   "source": [
    "price_in_words"
   ]
  },
  {
   "cell_type": "code",
   "execution_count": 9,
   "metadata": {},
   "outputs": [
    {
     "data": {
      "text/plain": [
       "(14336, 21)"
      ]
     },
     "execution_count": 9,
     "metadata": {},
     "output_type": "execute_result"
    }
   ],
   "source": [
    "df.shape"
   ]
  },
  {
   "cell_type": "code",
   "execution_count": 10,
   "metadata": {},
   "outputs": [],
   "source": [
    "for i in range(len(df)):\n",
    "    df.loc[i, \"Giá bằng chữ\"] = Price_in_words[i]"
   ]
  },
  {
   "cell_type": "code",
   "execution_count": 11,
   "metadata": {},
   "outputs": [],
   "source": [
    "df.to_excel(\"Data_Recommend.xlsx\", sheet_name=\"Danh sách xe\", index=False, header=True)"
   ]
  },
  {
   "cell_type": "code",
   "execution_count": 13,
   "metadata": {},
   "outputs": [
    {
     "name": "stdout",
     "output_type": "stream",
     "text": [
      "<class 'pandas.core.frame.DataFrame'>\n",
      "RangeIndex: 14336 entries, 0 to 14335\n",
      "Data columns (total 22 columns):\n",
      " #   Column             Non-Null Count  Dtype  \n",
      "---  ------             --------------  -----  \n",
      " 0   Tên Xe             14336 non-null  object \n",
      " 1   Đơn giá            14336 non-null  object \n",
      " 2   Người Bán          14336 non-null  object \n",
      " 3   Địa chỉ người bán  14296 non-null  object \n",
      " 4   Hãng xe            14336 non-null  object \n",
      " 5   Năm SX             14142 non-null  float64\n",
      " 6   Dòng xe            13826 non-null  object \n",
      " 7   Phiên bản          3911 non-null   object \n",
      " 8   Kiểu dáng          14314 non-null  object \n",
      " 9   Màu sắc            14249 non-null  object \n",
      " 10  Tình trạng         14336 non-null  object \n",
      " 11  Số chỗ ngồi        14334 non-null  float64\n",
      " 12  Xuất xứ            14274 non-null  object \n",
      " 13  Tỉnh thành         14296 non-null  object \n",
      " 14  Km đã đi           13616 non-null  float64\n",
      " 15  Hộp số             14336 non-null  object \n",
      " 16  Nhiên liệu         14326 non-null  object \n",
      " 17  Link xe            14336 non-null  object \n",
      " 18  Dung tích          9426 non-null   object \n",
      " 19  Image_URL          14336 non-null  object \n",
      " 20  Khoảng giá         14293 non-null  object \n",
      " 21  Giá bằng chữ       14336 non-null  object \n",
      "dtypes: float64(3), object(19)\n",
      "memory usage: 2.4+ MB\n"
     ]
    }
   ],
   "source": [
    "df.info()"
   ]
  },
  {
   "cell_type": "code",
   "execution_count": 15,
   "metadata": {},
   "outputs": [],
   "source": [
    "df_Brand = pd.read_excel('data_Hang_Xe.xlsx')"
   ]
  },
  {
   "cell_type": "code",
   "execution_count": 16,
   "metadata": {},
   "outputs": [
    {
     "data": {
      "text/plain": [
       "(194, 36)"
      ]
     },
     "execution_count": 16,
     "metadata": {},
     "output_type": "execute_result"
    }
   ],
   "source": [
    "df_Brand.shape"
   ]
  },
  {
   "cell_type": "code",
   "execution_count": 17,
   "metadata": {},
   "outputs": [
    {
     "name": "stdout",
     "output_type": "stream",
     "text": [
      "<class 'pandas.core.frame.DataFrame'>\n",
      "RangeIndex: 194 entries, 0 to 193\n",
      "Data columns (total 36 columns):\n",
      " #   Column                       Non-Null Count  Dtype  \n",
      "---  ------                       --------------  -----  \n",
      " 0   Tên Xe                       194 non-null    object \n",
      " 1   Đơn giá                      154 non-null    object \n",
      " 2   Người Bán                    194 non-null    object \n",
      " 3   Địa chỉ người bán            154 non-null    object \n",
      " 4   Hãng xe                      194 non-null    object \n",
      " 5   Năm SX                       0 non-null      float64\n",
      " 6   Dòng xe                      194 non-null    object \n",
      " 7   Phiên bản                    194 non-null    object \n",
      " 8   Kiểu dáng                    172 non-null    object \n",
      " 9   Màu sắc                      107 non-null    object \n",
      " 10  Tình trạng                   194 non-null    object \n",
      " 11  Số chỗ ngồi                  192 non-null    object \n",
      " 12  Xuất xứ                      132 non-null    object \n",
      " 13  Tỉnh thành                   154 non-null    object \n",
      " 14  Km đã đi                     0 non-null      float64\n",
      " 15  Hộp số                       194 non-null    object \n",
      " 16  Nhiên liệu                   194 non-null    object \n",
      " 17  Phân khúc                    87 non-null     object \n",
      " 18  Động cơ - Mã lực             96 non-null     object \n",
      " 19  Kích thước - Trọng lượng     194 non-null    object \n",
      " 20  Động cơ - Hộp số             192 non-null    object \n",
      " 21  Khung gầm                    87 non-null     object \n",
      " 22  Ngoại thất                   194 non-null    object \n",
      " 23  Nội thất                     194 non-null    object \n",
      " 24  An toàn                      194 non-null    object \n",
      " 25  Mức tiêu thụ nhiên liệu      87 non-null     object \n",
      " 26  Số loại sản phẩm             87 non-null     object \n",
      " 27  Image_URL                    194 non-null    object \n",
      " 28  Link xe                      194 non-null    object \n",
      " 29  Thông tin chung              9 non-null      object \n",
      " 30  Khung xe                     9 non-null      object \n",
      " 31  Tiện nghi                    45 non-null     object \n",
      " 32  Ghế                          34 non-null     object \n",
      " 33  An ninh                      31 non-null     object \n",
      " 34  Truyền động - Hệ thống treo  22 non-null     object \n",
      " 35  Dung tích                    36 non-null     object \n",
      "dtypes: float64(2), object(34)\n",
      "memory usage: 54.7+ KB\n"
     ]
    }
   ],
   "source": [
    "df_Brand.info()"
   ]
  },
  {
   "cell_type": "code",
   "execution_count": null,
   "metadata": {},
   "outputs": [],
   "source": []
  }
 ],
 "metadata": {
  "kernelspec": {
   "display_name": "Python 3",
   "language": "python",
   "name": "python3"
  },
  "language_info": {
   "codemirror_mode": {
    "name": "ipython",
    "version": 3
   },
   "file_extension": ".py",
   "mimetype": "text/x-python",
   "name": "python",
   "nbconvert_exporter": "python",
   "pygments_lexer": "ipython3",
   "version": "3.10.9"
  }
 },
 "nbformat": 4,
 "nbformat_minor": 2
}
